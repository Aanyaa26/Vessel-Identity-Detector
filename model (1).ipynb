{
 "cells": [
  {
   "cell_type": "code",
   "execution_count": 114,
   "id": "c8dded58-743a-4a53-8b18-df28d2b2710e",
   "metadata": {},
   "outputs": [
    {
     "name": "stdout",
     "output_type": "stream",
     "text": [
      "Accuracy: 0.8402061855670103\n",
      "Classification Report:\n",
      "               precision    recall  f1-score   support\n",
      "\n",
      "   419000001       0.83      0.85      0.84       291\n",
      "   419000002       0.85      0.82      0.84       291\n",
      "   419000003       0.84      0.80      0.82       291\n",
      "   419000004       0.84      0.89      0.86       291\n",
      "\n",
      "    accuracy                           0.84      1164\n",
      "   macro avg       0.84      0.84      0.84      1164\n",
      "weighted avg       0.84      0.84      0.84      1164\n",
      "\n"
     ]
    }
   ],
   "source": [
    "import pandas as pd\n",
    "from sklearn.preprocessing import StandardScaler, OneHotEncoder\n",
    "from sklearn.model_selection import train_test_split\n",
    "from sklearn.ensemble import RandomForestClassifier\n",
    "from sklearn.metrics import accuracy_score, classification_report\n",
    "import numpy as np\n",
    "\n",
    "# Load the dataset\n",
    "data = pd.read_csv('C:\\\\Users\\\\gaura\\\\Downloads\\\\augmented_historical_ais_data.csv')\n",
    "\n",
    "#check for null values\n",
    "# data.isna().sum()\n",
    "\n",
    "# One-hot encode categorical features\n",
    "categorical_features = ['PORT OF ORIGIN', 'PORT OF DESTINATION', 'VESSEL TYPE']\n",
    "data = pd.get_dummies(data, columns=categorical_features)\n",
    "\n",
    "# Convert 'TIMESTAMP' to datetime format\n",
    "data['TIMESTAMP'] = pd.to_datetime(data['TIMESTAMP'])\n",
    "\n",
    "# Extract time features\n",
    "data['HOUR'] = data['TIMESTAMP'].dt.hour\n",
    "data['DAY_OF_WEEK'] = data['TIMESTAMP'].dt.dayofweek\n",
    "data['MONTH'] = data['TIMESTAMP'].dt.month\n",
    "\n",
    "# # Drop the original 'TIMESTAMP' column\n",
    "# data = data.drop(columns=['TIMESTAMP'])\n",
    "\n",
    "# Define the target variable and features\n",
    "X = data[['COURSE', 'LATITUDE','LONGITUDE','HOUR','DAY_OF_WEEK','MONTH']]\n",
    "y = data['MMSI']\n",
    "\n",
    "# Split the data into training and testing sets\n",
    "X_train, X_test, y_train, y_test = train_test_split(X, y, test_size=0.2, random_state=42, stratify =y)\n",
    "\n",
    "# Initialize and train the RandomForestClassifier\n",
    "model = RandomForestClassifier(n_estimators=100, random_state=42)\n",
    "model.fit(X_train, y_train)\n",
    "\n",
    "# Predict on the test set\n",
    "y_pred = model.predict(X_test)\n",
    "\n",
    "# Evaluate the model\n",
    "accuracy = accuracy_score(y_test, y_pred)\n",
    "report = classification_report(y_test, y_pred)\n",
    "\n",
    "print(\"Accuracy:\", accuracy)\n",
    "print(\"Classification Report:\\n\", report)\n"
   ]
  },
  {
   "cell_type": "markdown",
   "id": "5e9df5fe-486a-4a79-9053-bd0091e12974",
   "metadata": {},
   "source": [
    "try with different test data splits ratio"
   ]
  },
  {
   "cell_type": "code",
   "execution_count": 100,
   "id": "3f360c8c-18d7-4e32-8d65-fd6a97de32cf",
   "metadata": {},
   "outputs": [
    {
     "name": "stdout",
     "output_type": "stream",
     "text": [
      "Results for 85:15 split\n",
      "Accuracy: 0.9014891179839634\n",
      "Classification Report:\n",
      "               precision    recall  f1-score   support\n",
      "\n",
      "   419000001       0.88      0.92      0.90       218\n",
      "   419000002       0.91      0.88      0.89       218\n",
      "   419000003       0.91      0.88      0.90       219\n",
      "   419000004       0.90      0.93      0.92       218\n",
      "\n",
      "    accuracy                           0.90       873\n",
      "   macro avg       0.90      0.90      0.90       873\n",
      "weighted avg       0.90      0.90      0.90       873\n",
      "\n"
     ]
    }
   ],
   "source": [
    "\n",
    "# Define the target variable and features\n",
    "X = data[['COURSE', 'LATITUDE','LONGITUDE','HOUR','DAY_OF_WEEK','MONTH']]\n",
    "y = data['MMSI']\n",
    "\n",
    "# Function to train and evaluate the model with different splits\n",
    "def evaluate_model(test_size):\n",
    "    # Split the data\n",
    "    X_train, X_test, y_train, y_test = train_test_split(X, y, test_size=test_size, random_state=42,stratify=y)\n",
    "    \n",
    "    # Initialize and train the RandomForestClassifier\n",
    "    model = RandomForestClassifier(n_estimators=100, random_state=42)\n",
    "    model.fit(X_train, y_train)\n",
    "    \n",
    "    # Predict on the test set\n",
    "    y_pred = model.predict(X_test)\n",
    "    \n",
    "    # Evaluate the model\n",
    "    accuracy = accuracy_score(y_test, y_pred)\n",
    "    report = classification_report(y_test, y_pred)\n",
    "    \n",
    "    return accuracy, report\n",
    "\n",
    "# Evaluate with 85:15 split\n",
    "accuracy_85_15, report_85_15 = evaluate_model(0.15)\n",
    "\n",
    "print(\"Results for 85:15 split\")\n",
    "print(\"Accuracy:\", accuracy_85_15)\n",
    "print(\"Classification Report:\\n\", report_85_15)\n"
   ]
  },
  {
   "cell_type": "code",
   "execution_count": 90,
   "id": "7447cb3c-16dd-4a94-84a2-db063d6d06ed",
   "metadata": {},
   "outputs": [
    {
     "name": "stdout",
     "output_type": "stream",
     "text": [
      "Training data size: 4652 samples\n",
      "Test data size: 1164 samples\n",
      "\n",
      "Training data samples:\n",
      "        COURSE  LATITUDE  LONGITUDE  HOUR  DAY_OF_WEEK  MONTH\n",
      "718  -0.946983 -1.532075   0.380557    16            2      6\n",
      "4941  1.368981  0.318056   0.346502    12            0      6\n",
      "2992  1.199974 -1.004218  -0.673667     0            2      3\n",
      "988   0.253456 -1.202705  -1.104624    12            3      4\n",
      "1023  0.311077  1.138099   1.591460     8            2      4\n",
      "718     419000001\n",
      "4941    419000003\n",
      "2992    419000001\n",
      "988     419000002\n",
      "1023    419000002\n",
      "Name: MMSI, dtype: int64\n",
      "\n",
      "Test data samples:\n",
      "        COURSE  LATITUDE  LONGITUDE  HOUR  DAY_OF_WEEK  MONTH\n",
      "5291  1.188812  1.577028  -0.294635    16            0      4\n",
      "3136 -0.288729 -1.474323   1.103197     0            5      4\n",
      "639   0.676011  1.315324  -0.935455    12            3      6\n",
      "2740  1.425085 -0.363752   0.162972     4            4      6\n",
      "883  -1.638436 -0.154087  -1.585114     0            0      3\n",
      "5291    419000004\n",
      "3136    419000001\n",
      "639     419000001\n",
      "2740    419000004\n",
      "883     419000002\n",
      "Name: MMSI, dtype: int64\n"
     ]
    }
   ],
   "source": [
    "# Print the size of training and test sets\n",
    "print(f\"Training data size: {X_train.shape[0]} samples\")\n",
    "print(f\"Test data size: {X_test.shape[0]} samples\")\n",
    "\n",
    "# Print first few rows of training data\n",
    "print(\"\\nTraining data samples:\")\n",
    "print(X_train.head())\n",
    "print(y_train.head())\n",
    "\n",
    "# Print first few rows of test data\n",
    "print(\"\\nTest data samples:\")\n",
    "print(X_test.head())\n",
    "print(y_test.head())"
   ]
  },
  {
   "cell_type": "code",
   "execution_count": null,
   "id": "7dee31af-c28c-424c-892d-d38d0fa7b99e",
   "metadata": {},
   "outputs": [],
   "source": []
  }
 ],
 "metadata": {
  "kernelspec": {
   "display_name": "Python 3 (ipykernel)",
   "language": "python",
   "name": "python3"
  },
  "language_info": {
   "codemirror_mode": {
    "name": "ipython",
    "version": 3
   },
   "file_extension": ".py",
   "mimetype": "text/x-python",
   "name": "python",
   "nbconvert_exporter": "python",
   "pygments_lexer": "ipython3",
   "version": "3.12.4"
  }
 },
 "nbformat": 4,
 "nbformat_minor": 5
}
